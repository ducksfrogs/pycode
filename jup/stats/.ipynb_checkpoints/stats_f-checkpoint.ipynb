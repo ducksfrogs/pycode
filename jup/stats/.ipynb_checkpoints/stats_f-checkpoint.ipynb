{
 "cells": [
  {
   "cell_type": "code",
   "execution_count": 1,
   "metadata": {},
   "outputs": [],
   "source": [
    "import numpy as np\n",
    "import pandas as pd\n",
    "from scipy import stats\n",
    "import matplotlib.pyplot as plt\n"
   ]
  },
  {
   "cell_type": "code",
   "execution_count": 2,
   "metadata": {},
   "outputs": [
    {
     "data": {
      "image/png": "[encoded data removed]",
      "text/plain": [
       "<Figure size 432x288 with 1 Axes>"
      ]
     },
     "metadata": {
      "needs_background": "light"
     },
     "output_type": "display_data"
    }
   ],
   "source": [
    "roll_options = [1,2,3,4,5,6]\n",
    "\n",
    "trob = 1\n",
    "prob_roll = trob/ len(roll_options)\n",
    "\n",
    "uni_plot = plt.bar(roll_options,[prob_roll]*6)"
   ]
  },
  {
   "cell_type": "code",
   "execution_count": 3,
   "metadata": {},
   "outputs": [
    {
     "name": "stdout",
     "output_type": "stream",
     "text": [
      "3.5 2.9166666666666665\n"
     ]
    }
   ],
   "source": [
    "from scipy.stats import randint\n",
    "low, high = 1,7\n",
    "mean, var = randint.stats(low, high)\n",
    "\n",
    "print(mean,var)"
   ]
  },
  {
   "cell_type": "code",
   "execution_count": 4,
   "metadata": {},
   "outputs": [
    {
     "data": {
      "text/plain": [
       "<BarContainer object of 6 artists>"
      ]
     },
     "execution_count": 4,
     "metadata": {},
     "output_type": "execute_result"
    },
    {
     "data": {
      "image/png": "[encoded data removed]",
      "text/plain": [
       "<Figure size 432x288 with 1 Axes>"
      ]
     },
     "metadata": {
      "needs_background": "light"
     },
     "output_type": "display_data"
    }
   ],
   "source": [
    "plt.bar(roll_options, randint.pmf(roll_options,low,high))"
   ]
  },
  {
   "cell_type": "markdown",
   "metadata": {},
   "source": [
    "## renzoku itiyou bunpu"
   ]
  },
  {
   "cell_type": "code",
   "execution_count": 5,
   "metadata": {},
   "outputs": [
    {
     "data": {
      "text/plain": [
       "0.125"
      ]
     },
     "execution_count": 5,
     "metadata": {},
     "output_type": "execute_result"
    }
   ],
   "source": [
    "a = 19\n",
    "b = 27\n",
    "\n",
    "fx = 1.0/(b-a)\n",
    "\n",
    "fx"
   ]
  },
  {
   "cell_type": "code",
   "execution_count": 6,
   "metadata": {},
   "outputs": [
    {
     "data": {
      "text/plain": [
       "[<matplotlib.lines.Line2D at 0x7f0125b99780>]"
      ]
     },
     "execution_count": 6,
     "metadata": {},
     "output_type": "execute_result"
    },
    {
     "data": {
      "image/png": "[encoded data removed]",
      "text/plain": [
       "<Figure size 432x288 with 1 Axes>"
      ]
     },
     "metadata": {
      "needs_background": "light"
     },
     "output_type": "display_data"
    }
   ],
   "source": [
    "from scipy.stats import uniform\n",
    "%matplotlib inline\n",
    "\n",
    "A = 0\n",
    "B = 5\n",
    "\n",
    "x = np.linspace(A,B,100)\n",
    "\n",
    "rv = uniform(loc=A, scale=B)\n",
    "\n",
    "plt.plot(x, rv.pdf(x))\n",
    "plt.plot(x, rv.cdf(x))"
   ]
  },
  {
   "cell_type": "code",
   "execution_count": 7,
   "metadata": {},
   "outputs": [
    {
     "data": {
      "text/plain": [
       "<scipy.stats._distn_infrastructure.rv_frozen at 0x7f0125ba5b00>"
      ]
     },
     "execution_count": 7,
     "metadata": {},
     "output_type": "execute_result"
    }
   ],
   "source": [
    "rv"
   ]
  },
  {
   "cell_type": "markdown",
   "metadata": {},
   "source": [
    "## binorm"
   ]
  },
  {
   "cell_type": "code",
   "execution_count": 10,
   "metadata": {},
   "outputs": [
    {
     "name": "stdout",
     "output_type": "stream",
     "text": [
      "Player A get shoot 11.08%\n",
      "Player B get shoot 17.02%\n"
     ]
    }
   ],
   "source": [
    "p_A = .72\n",
    "\n",
    "n_A = 11\n",
    "\n",
    "k = 6\n",
    "\n",
    "import scipy.special as sc\n",
    "\n",
    "comb_A = sc.comb(n_A, k)\n",
    "\n",
    "answer_a = comb_A*(p_A**k)*((1-p_A)**(n_A-k))\n",
    "\n",
    "answer_a= answer_a*100\n",
    "\n",
    "p_B = .48\n",
    "n_B = 15\n",
    "comb_B = sc.comb(n_B, k)\n",
    "answer_b = 100*comb_B*(p_B**k)*((1-p_B)**(n_B-k))\n",
    "\n",
    "print('Player A get shoot {:0.2f}%'.format(answer_a))\n",
    "print('Player B get shoot {:0.2f}%'.format(answer_b))"
   ]
  },
  {
   "cell_type": "code",
   "execution_count": 11,
   "metadata": {},
   "outputs": [
    {
     "name": "stdout",
     "output_type": "stream",
     "text": [
      "Player A get shoot 22.42%\n",
      "Player B get shoot 13.38%\n"
     ]
    }
   ],
   "source": [
    "k = 9\n",
    "\n",
    "\n",
    "comb_A = sc.comb(n_A, k)\n",
    "comb_B = sc.comb(n_B, k)\n",
    "\n",
    "answer_a = 100*comb_A*(p_A**k)*((1-p_A)**(n_A-k))\n",
    "answer_b = 100*comb_B*(p_B**k)*((1-p_B)**(n_B-k))\n",
    "\n",
    "print('Player A get shoot {:0.2f}%'.format(answer_a))\n",
    "print('Player B get shoot {:0.2f}%'.format(answer_b))"
   ]
  },
  {
   "cell_type": "code",
   "execution_count": 12,
   "metadata": {},
   "outputs": [
    {
     "name": "stdout",
     "output_type": "stream",
     "text": [
      "player A get success at shoot average 7.9+/-1.5\n",
      "player B get success at shoot average 7.2+/-1.9\n"
     ]
    }
   ],
   "source": [
    "mu_A = n_A * p_A\n",
    "mu_B = n_B * p_B\n",
    "\n",
    "sigma_A = (n_A*p_A*(1-p_A))**0.5\n",
    "sigma_B = (n_B*p_B*(1-p_B))**0.5\n",
    "\n",
    "print('player A get success at shoot average {:0.1f}+/-{:0.1f}'.format(mu_A,sigma_A))\n",
    "print('player B get success at shoot average {:0.1f}+/-{:0.1f}'.format(mu_B,sigma_B))\n"
   ]
  },
  {
   "cell_type": "code",
   "execution_count": 14,
   "metadata": {},
   "outputs": [
    {
     "name": "stdout",
     "output_type": "stream",
     "text": [
      "7.92\n",
      "1.4891608375189027\n"
     ]
    }
   ],
   "source": [
    "from scipy.stats import binom\n",
    "\n",
    "mean, var = binom.stats(n_A,p_A)\n",
    "print(mean)\n",
    "print(var**0.5)"
   ]
  },
  {
   "cell_type": "code",
   "execution_count": 16,
   "metadata": {},
   "outputs": [
    {
     "data": {
      "text/plain": [
       "array([0.00097656, 0.00976563, 0.04394531, 0.1171875 , 0.20507813,\n",
       "       0.24609375, 0.20507813, 0.1171875 , 0.04394531, 0.00976563,\n",
       "       0.00097656])"
      ]
     },
     "execution_count": 16,
     "metadata": {},
     "output_type": "execute_result"
    }
   ],
   "source": [
    "n = 10\n",
    "p = 0.5\n",
    "\n",
    "x = range(n+1)\n",
    "\n",
    "Y = binom.pmf(x, n, p)\n",
    "Y"
   ]
  },
  {
   "cell_type": "code",
   "execution_count": 17,
   "metadata": {},
   "outputs": [
    {
     "data": {
      "text/plain": [
       "[<matplotlib.lines.Line2D at 0x7f0121e45128>]"
      ]
     },
     "execution_count": 17,
     "metadata": {},
     "output_type": "execute_result"
    },
    {
     "data": {
      "image/png": "[encoded data removed]",
      "text/plain": [
       "<Figure size 432x288 with 1 Axes>"
      ]
     },
     "metadata": {
      "needs_background": "light"
     },
     "output_type": "display_data"
    }
   ],
   "source": [
    "plt.plot(x,Y,'o')"
   ]
  },
  {
   "cell_type": "markdown",
   "metadata": {},
   "source": [
    "## poison"
   ]
  },
  {
   "cell_type": "code",
   "execution_count": 19,
   "metadata": {},
   "outputs": [
    {
     "name": "stdout",
     "output_type": "stream",
     "text": [
      "0.09007922571921599\n"
     ]
    }
   ],
   "source": [
    "lamb =10\n",
    "\n",
    "k = 7\n",
    "\n",
    "from math import exp\n",
    "from math import factorial\n",
    "\n",
    "prob = (lamb**k)*exp(-lamb)/factorial(k)\n",
    "\n",
    "print(prob)"
   ]
  },
  {
   "cell_type": "code",
   "execution_count": 21,
   "metadata": {},
   "outputs": [
    {
     "name": "stdout",
     "output_type": "stream",
     "text": [
      "The probabilyty seven person is 9.01%\n",
      "The mean =10.0\n"
     ]
    }
   ],
   "source": [
    "from scipy.stats import poisson\n",
    "\n",
    "mu = 10\n",
    "\n",
    "mean,var = poisson.stats(mu)\n",
    "\n",
    "odds_seven = poisson.pmf(7,mu)\n",
    "\n",
    "print('The probabilyty seven person is {:0.2f}%'.format(odds_seven*100))\n",
    "print('The mean ={}' .format(mean))"
   ]
  },
  {
   "cell_type": "code",
   "execution_count": 22,
   "metadata": {},
   "outputs": [
    {
     "data": {
      "text/plain": [
       "array([4.53999298e-05, 4.53999298e-04, 2.26999649e-03, 7.56665496e-03,\n",
       "       1.89166374e-02, 3.78332748e-02, 6.30554580e-02, 9.00792257e-02,\n",
       "       1.12599032e-01, 1.25110036e-01, 1.25110036e-01, 1.13736396e-01,\n",
       "       9.47803301e-02, 7.29079462e-02, 5.20771044e-02, 3.47180696e-02,\n",
       "       2.16987935e-02, 1.27639962e-02, 7.09110899e-03, 3.73216263e-03,\n",
       "       1.86608131e-03, 8.88610150e-04, 4.03913704e-04, 1.75614654e-04,\n",
       "       7.31727725e-05, 2.92691090e-05, 1.12573496e-05, 4.16938875e-06,\n",
       "       1.48906741e-06, 5.13471521e-07])"
      ]
     },
     "execution_count": 22,
     "metadata": {},
     "output_type": "execute_result"
    }
   ],
   "source": [
    "k = np.arange(30)\n",
    "lamb = 10\n",
    "pmf_pois = poisson.pmf(k,lamb)\n",
    "\n",
    "pmf_pois"
   ]
  },
  {
   "cell_type": "code",
   "execution_count": 23,
   "metadata": {},
   "outputs": [],
   "source": [
    "import seaborn as sns"
   ]
  },
  {
   "cell_type": "code",
   "execution_count": 24,
   "metadata": {},
   "outputs": [
    {
     "data": {
      "text/plain": [
       "<BarContainer object of 30 artists>"
      ]
     },
     "execution_count": 24,
     "metadata": {},
     "output_type": "execute_result"
    },
    {
     "data": {
      "image/png": "[encoded data removed]",
      "text/plain": [
       "<Figure size 432x288 with 1 Axes>"
      ]
     },
     "metadata": {
      "needs_background": "light"
     },
     "output_type": "display_data"
    }
   ],
   "source": [
    "plt.bar(k,pmf_pois)"
   ]
  },
  {
   "cell_type": "code",
   "execution_count": 25,
   "metadata": {},
   "outputs": [
    {
     "name": "stdout",
     "output_type": "stream",
     "text": [
      "10 guest probability is 58.30397501929851\n"
     ]
    }
   ],
   "source": [
    "k,mu = 10,10\n",
    "prob_up_to_ten = poisson.cdf(k,mu)\n",
    "print('10 guest probability is {}'.format(100*prob_up_to_ten))"
   ]
  },
  {
   "cell_type": "code",
   "execution_count": 26,
   "metadata": {},
   "outputs": [
    {
     "name": "stdout",
     "output_type": "stream",
     "text": [
      "more10 guest probability is 41.69602498070149\n"
     ]
    }
   ],
   "source": [
    "prob_more_ten = 1-prob_up_to_ten\n",
    "print('more10 guest probability is {}'.format(100*prob_more_ten))"
   ]
  },
  {
   "cell_type": "markdown",
   "metadata": {},
   "source": [
    "## normal distribution"
   ]
  },
  {
   "cell_type": "code",
   "execution_count": null,
   "metadata": {},
   "outputs": [],
   "source": []
  }
 ],
 "metadata": {
  "kernelspec": {
   "display_name": "Python 3",
   "language": "python",
   "name": "python3"
  },
  "language_info": {
   "codemirror_mode": {
    "name": "ipython",
    "version": 3
   },
   "file_extension": ".py",
   "mimetype": "text/x-python",
   "name": "python",
   "nbconvert_exporter": "python",
   "pygments_lexer": "ipython3",
   "version": "3.7.3"
  }
 },
 "nbformat": 4,
 "nbformat_minor": 2
}
